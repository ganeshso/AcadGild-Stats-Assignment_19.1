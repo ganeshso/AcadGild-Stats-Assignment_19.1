{
 "cells": [
  {
   "cell_type": "raw",
   "metadata": {},
   "source": [
    "Is gender independent of education level? A random sample of 395 people were\n",
    "surveyed and each person was asked to report the highest education level they\n",
    "obtained. The data that resulted from the survey is summarized in the following table:\n",
    "\n",
    "High School Bachelors Masters Ph.d. Total\n",
    "Female  60 54 46 41 201\n",
    "Male    40 44 53 57 194\n",
    "Total  100 98 99 98 395\n",
    "\n",
    "Question: Are gender and education level dependent at 5% level of significance? In\n",
    "other words, given the data collected above, is there a relationship between the gender\n",
    "of an individual and the level of education that they have obtained?"
   ]
  },
  {
   "cell_type": "code",
   "execution_count": 1,
   "metadata": {},
   "outputs": [],
   "source": [
    "import numpy as np\n",
    "import pandas as pd\n",
    "import scipy.stats as stats"
   ]
  },
  {
   "cell_type": "code",
   "execution_count": 2,
   "metadata": {},
   "outputs": [],
   "source": [
    "Males = [40,44,53,57]\n",
    "Females = [60,54,46,41]\n"
   ]
  },
  {
   "cell_type": "code",
   "execution_count": 3,
   "metadata": {},
   "outputs": [],
   "source": [
    "#H0 : Male and female categories are independent of each other\n",
    "# H1 : Male and female categories are dependent of each other"
   ]
  },
  {
   "cell_type": "code",
   "execution_count": 4,
   "metadata": {},
   "outputs": [],
   "source": [
    "# Perform the Chi-Square test, we will get ChiSquare test statistics and p-value"
   ]
  },
  {
   "cell_type": "code",
   "execution_count": 5,
   "metadata": {},
   "outputs": [],
   "source": [
    "#Check for p-value < 0.05 levels of significane depending on which we will reject the null hypothesis"
   ]
  },
  {
   "cell_type": "code",
   "execution_count": 6,
   "metadata": {},
   "outputs": [],
   "source": [
    "#Check for p-value > 0.05 levels of significane depending on which we will accept the null hypothesis"
   ]
  },
  {
   "cell_type": "code",
   "execution_count": 7,
   "metadata": {},
   "outputs": [
    {
     "data": {
      "text/plain": [
       "Power_divergenceResult(statistic=15.827638348847257, pvalue=0.001230081983416058)"
      ]
     },
     "execution_count": 7,
     "metadata": {},
     "output_type": "execute_result"
    }
   ],
   "source": [
    "stats.chisquare(Males,Females)"
   ]
  },
  {
   "cell_type": "code",
   "execution_count": 8,
   "metadata": {},
   "outputs": [
    {
     "name": "stdout",
     "output_type": "stream",
     "text": [
      "Since p-value is less than 0.05, we reject the NULL hypothesis that male and female are independent of each other\n"
     ]
    }
   ],
   "source": [
    "print(\"Since p-value is less than 0.05, we reject the NULL hypothesis that male and female are independent of each other\")\n"
   ]
  },
  {
   "cell_type": "code",
   "execution_count": null,
   "metadata": {},
   "outputs": [],
   "source": []
  }
 ],
 "metadata": {
  "kernelspec": {
   "display_name": "Python 3",
   "language": "python",
   "name": "python3"
  },
  "language_info": {
   "codemirror_mode": {
    "name": "ipython",
    "version": 3
   },
   "file_extension": ".py",
   "mimetype": "text/x-python",
   "name": "python",
   "nbconvert_exporter": "python",
   "pygments_lexer": "ipython3",
   "version": "3.6.4"
  }
 },
 "nbformat": 4,
 "nbformat_minor": 2
}
